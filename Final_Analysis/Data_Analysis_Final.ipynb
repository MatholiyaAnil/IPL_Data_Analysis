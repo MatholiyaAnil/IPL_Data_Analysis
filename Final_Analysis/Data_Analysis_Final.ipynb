{
 "cells": [
  {
   "cell_type": "code",
   "execution_count": 1,
   "id": "bfed6b79",
   "metadata": {},
   "outputs": [],
   "source": [
    "import csv\n",
    "import pandas as pd\n",
    "import numpy as np\n",
    "import matplotlib.pyplot as plt"
   ]
  },
  {
   "cell_type": "code",
   "execution_count": 2,
   "id": "bc6f53f7",
   "metadata": {},
   "outputs": [],
   "source": [
    "filename = '2023_Ball_by_Ball_final_clean.csv.'\n",
    "\n",
    "with open(filename, 'r') as file:\n",
    "    reader = csv.reader(file)\n",
    "    # Perform data cleaning operations"
   ]
  },
  {
   "cell_type": "code",
   "execution_count": 3,
   "id": "14dac040",
   "metadata": {},
   "outputs": [],
   "source": [
    "df = pd.read_csv(filename)"
   ]
  },
  {
   "cell_type": "code",
   "execution_count": 4,
   "id": "bf4f8ae1",
   "metadata": {},
   "outputs": [
    {
     "data": {
      "text/html": [
       "<div>\n",
       "<style scoped>\n",
       "    .dataframe tbody tr th:only-of-type {\n",
       "        vertical-align: middle;\n",
       "    }\n",
       "\n",
       "    .dataframe tbody tr th {\n",
       "        vertical-align: top;\n",
       "    }\n",
       "\n",
       "    .dataframe thead th {\n",
       "        text-align: right;\n",
       "    }\n",
       "</style>\n",
       "<table border=\"1\" class=\"dataframe\">\n",
       "  <thead>\n",
       "    <tr style=\"text-align: right;\">\n",
       "      <th></th>\n",
       "      <th>BallUniqueID</th>\n",
       "      <th>ActualBallNo</th>\n",
       "      <th>MatchID</th>\n",
       "      <th>InningsNo</th>\n",
       "      <th>BattingTeamID</th>\n",
       "      <th>TeamName</th>\n",
       "      <th>BatsManName</th>\n",
       "      <th>BowlerName</th>\n",
       "      <th>BowlerType</th>\n",
       "      <th>OverNo</th>\n",
       "      <th>...</th>\n",
       "      <th>BowlTypeName</th>\n",
       "      <th>ShotType</th>\n",
       "      <th>IsBouncer</th>\n",
       "      <th>BallCount</th>\n",
       "      <th>TotalRuns</th>\n",
       "      <th>BOWLING_LINE_ID</th>\n",
       "      <th>BOWLING_LENGTH_ID</th>\n",
       "      <th>IsFifty</th>\n",
       "      <th>IsHundred</th>\n",
       "      <th>IsHattrick</th>\n",
       "    </tr>\n",
       "  </thead>\n",
       "  <tbody>\n",
       "    <tr>\n",
       "      <th>0</th>\n",
       "      <td>327433</td>\n",
       "      <td>1</td>\n",
       "      <td>1046</td>\n",
       "      <td>1</td>\n",
       "      <td>35</td>\n",
       "      <td>Gujarat Titans</td>\n",
       "      <td>Wriddhiman Saha</td>\n",
       "      <td>Deepak Chahar</td>\n",
       "      <td>NaN</td>\n",
       "      <td>1</td>\n",
       "      <td>...</td>\n",
       "      <td>OUTSWINGER</td>\n",
       "      <td>FORWARD DEFENCE</td>\n",
       "      <td>0</td>\n",
       "      <td>1</td>\n",
       "      <td>0</td>\n",
       "      <td>Off stump</td>\n",
       "      <td>Good Length</td>\n",
       "      <td>0</td>\n",
       "      <td>0</td>\n",
       "      <td>0</td>\n",
       "    </tr>\n",
       "    <tr>\n",
       "      <th>1</th>\n",
       "      <td>327434</td>\n",
       "      <td>2</td>\n",
       "      <td>1046</td>\n",
       "      <td>1</td>\n",
       "      <td>35</td>\n",
       "      <td>Gujarat Titans</td>\n",
       "      <td>Wriddhiman Saha</td>\n",
       "      <td>Deepak Chahar</td>\n",
       "      <td>NaN</td>\n",
       "      <td>1</td>\n",
       "      <td>...</td>\n",
       "      <td>OUTSWINGER</td>\n",
       "      <td>CUT SHOT</td>\n",
       "      <td>0</td>\n",
       "      <td>2</td>\n",
       "      <td>0</td>\n",
       "      <td>Outside Off stump</td>\n",
       "      <td>Good Length</td>\n",
       "      <td>0</td>\n",
       "      <td>0</td>\n",
       "      <td>0</td>\n",
       "    </tr>\n",
       "  </tbody>\n",
       "</table>\n",
       "<p>2 rows × 41 columns</p>\n",
       "</div>"
      ],
      "text/plain": [
       "   BallUniqueID  ActualBallNo  MatchID  InningsNo  BattingTeamID   \n",
       "0        327433             1     1046          1             35  \\\n",
       "1        327434             2     1046          1             35   \n",
       "\n",
       "         TeamName      BatsManName     BowlerName  BowlerType  OverNo  ...   \n",
       "0  Gujarat Titans  Wriddhiman Saha  Deepak Chahar         NaN       1  ...  \\\n",
       "1  Gujarat Titans  Wriddhiman Saha  Deepak Chahar         NaN       1  ...   \n",
       "\n",
       "   BowlTypeName         ShotType  IsBouncer  BallCount  TotalRuns   \n",
       "0    OUTSWINGER  FORWARD DEFENCE          0          1          0  \\\n",
       "1    OUTSWINGER         CUT SHOT          0          2          0   \n",
       "\n",
       "     BOWLING_LINE_ID  BOWLING_LENGTH_ID  IsFifty  IsHundred  IsHattrick  \n",
       "0          Off stump        Good Length        0          0           0  \n",
       "1  Outside Off stump        Good Length        0          0           0  \n",
       "\n",
       "[2 rows x 41 columns]"
      ]
     },
     "execution_count": 4,
     "metadata": {},
     "output_type": "execute_result"
    }
   ],
   "source": [
    "df.head(2)"
   ]
  },
  {
   "cell_type": "code",
   "execution_count": 5,
   "id": "02b254cf",
   "metadata": {},
   "outputs": [
    {
     "data": {
      "text/plain": [
       "Index(['BallUniqueID', 'ActualBallNo', 'MatchID', 'InningsNo', 'BattingTeamID',\n",
       "       'TeamName', 'BatsManName', 'BowlerName', 'BowlerType', 'OverNo',\n",
       "       'BallNo', 'Runs', 'ActualRuns', 'IsOne', 'IsTwo', 'IsThree',\n",
       "       'IsDotball', 'Extras', 'IsWide', 'IsNoBall', 'IsBye', 'IsLegBye',\n",
       "       'IsFour', 'IsSix', 'IsWicket', 'WicketType', 'IsBowlerWicket',\n",
       "       'BallName', 'CommentStrikers', 'IsExtra', 'IsMaiden', 'BowlTypeName',\n",
       "       'ShotType', 'IsBouncer', 'BallCount', 'TotalRuns', 'BOWLING_LINE_ID',\n",
       "       'BOWLING_LENGTH_ID', 'IsFifty', 'IsHundred', 'IsHattrick'],\n",
       "      dtype='object')"
      ]
     },
     "execution_count": 5,
     "metadata": {},
     "output_type": "execute_result"
    }
   ],
   "source": [
    "df.columns"
   ]
  },
  {
   "cell_type": "markdown",
   "id": "fdfef033",
   "metadata": {},
   "source": [
    "<font color='blue'>Create New Powerplay Dataframe to work with powerplay data</font>"
   ]
  },
  {
   "cell_type": "markdown",
   "id": "378fd783",
   "metadata": {},
   "source": [
    "# <font color='red'> <H2> BATSMAN </H2> </font>"
   ]
  },
  {
   "cell_type": "code",
   "execution_count": 6,
   "id": "a4413335",
   "metadata": {},
   "outputs": [],
   "source": [
    "#Creating new Dataframe as Powerplay_Batsman (Include only those player who played more than 40 ball in first 6 overs during entire season)\n",
    "over_6_filter = df['OverNo'] < 6\n",
    "ballno_counts = df[over_6_filter].groupby('BatsManName')['BallNo'].count()\n",
    "batsmen_greater_than_40 = ballno_counts[ballno_counts > 40]\n",
    "Powerplay_Bat = df[df['BatsManName'].isin(batsmen_greater_than_40.index) & over_6_filter]"
   ]
  },
  {
   "cell_type": "code",
   "execution_count": 7,
   "id": "1c3c801b",
   "metadata": {},
   "outputs": [
    {
     "data": {
      "text/html": [
       "<div>\n",
       "<style scoped>\n",
       "    .dataframe tbody tr th:only-of-type {\n",
       "        vertical-align: middle;\n",
       "    }\n",
       "\n",
       "    .dataframe tbody tr th {\n",
       "        vertical-align: top;\n",
       "    }\n",
       "\n",
       "    .dataframe thead th {\n",
       "        text-align: right;\n",
       "    }\n",
       "</style>\n",
       "<table border=\"1\" class=\"dataframe\">\n",
       "  <thead>\n",
       "    <tr style=\"text-align: right;\">\n",
       "      <th></th>\n",
       "      <th>BallUniqueID</th>\n",
       "      <th>ActualBallNo</th>\n",
       "      <th>MatchID</th>\n",
       "      <th>InningsNo</th>\n",
       "      <th>BattingTeamID</th>\n",
       "      <th>TeamName</th>\n",
       "      <th>BatsManName</th>\n",
       "      <th>BowlerName</th>\n",
       "      <th>BowlerType</th>\n",
       "      <th>OverNo</th>\n",
       "      <th>...</th>\n",
       "      <th>BowlTypeName</th>\n",
       "      <th>ShotType</th>\n",
       "      <th>IsBouncer</th>\n",
       "      <th>BallCount</th>\n",
       "      <th>TotalRuns</th>\n",
       "      <th>BOWLING_LINE_ID</th>\n",
       "      <th>BOWLING_LENGTH_ID</th>\n",
       "      <th>IsFifty</th>\n",
       "      <th>IsHundred</th>\n",
       "      <th>IsHattrick</th>\n",
       "    </tr>\n",
       "  </thead>\n",
       "  <tbody>\n",
       "    <tr>\n",
       "      <th>0</th>\n",
       "      <td>327433</td>\n",
       "      <td>1</td>\n",
       "      <td>1046</td>\n",
       "      <td>1</td>\n",
       "      <td>35</td>\n",
       "      <td>Gujarat Titans</td>\n",
       "      <td>Wriddhiman Saha</td>\n",
       "      <td>Deepak Chahar</td>\n",
       "      <td>NaN</td>\n",
       "      <td>1</td>\n",
       "      <td>...</td>\n",
       "      <td>OUTSWINGER</td>\n",
       "      <td>FORWARD DEFENCE</td>\n",
       "      <td>0</td>\n",
       "      <td>1</td>\n",
       "      <td>0</td>\n",
       "      <td>Off stump</td>\n",
       "      <td>Good Length</td>\n",
       "      <td>0</td>\n",
       "      <td>0</td>\n",
       "      <td>0</td>\n",
       "    </tr>\n",
       "    <tr>\n",
       "      <th>1</th>\n",
       "      <td>327434</td>\n",
       "      <td>2</td>\n",
       "      <td>1046</td>\n",
       "      <td>1</td>\n",
       "      <td>35</td>\n",
       "      <td>Gujarat Titans</td>\n",
       "      <td>Wriddhiman Saha</td>\n",
       "      <td>Deepak Chahar</td>\n",
       "      <td>NaN</td>\n",
       "      <td>1</td>\n",
       "      <td>...</td>\n",
       "      <td>OUTSWINGER</td>\n",
       "      <td>CUT SHOT</td>\n",
       "      <td>0</td>\n",
       "      <td>2</td>\n",
       "      <td>0</td>\n",
       "      <td>Outside Off stump</td>\n",
       "      <td>Good Length</td>\n",
       "      <td>0</td>\n",
       "      <td>0</td>\n",
       "      <td>0</td>\n",
       "    </tr>\n",
       "    <tr>\n",
       "      <th>2</th>\n",
       "      <td>327435</td>\n",
       "      <td>3</td>\n",
       "      <td>1046</td>\n",
       "      <td>1</td>\n",
       "      <td>35</td>\n",
       "      <td>Gujarat Titans</td>\n",
       "      <td>Wriddhiman Saha</td>\n",
       "      <td>Deepak Chahar</td>\n",
       "      <td>NaN</td>\n",
       "      <td>1</td>\n",
       "      <td>...</td>\n",
       "      <td>ANGLED IN</td>\n",
       "      <td>BACKFOOT DEFENCE</td>\n",
       "      <td>0</td>\n",
       "      <td>3</td>\n",
       "      <td>1</td>\n",
       "      <td>Outside Off stump</td>\n",
       "      <td>Short of Good Length</td>\n",
       "      <td>0</td>\n",
       "      <td>0</td>\n",
       "      <td>0</td>\n",
       "    </tr>\n",
       "  </tbody>\n",
       "</table>\n",
       "<p>3 rows × 41 columns</p>\n",
       "</div>"
      ],
      "text/plain": [
       "   BallUniqueID  ActualBallNo  MatchID  InningsNo  BattingTeamID   \n",
       "0        327433             1     1046          1             35  \\\n",
       "1        327434             2     1046          1             35   \n",
       "2        327435             3     1046          1             35   \n",
       "\n",
       "         TeamName      BatsManName     BowlerName  BowlerType  OverNo  ...   \n",
       "0  Gujarat Titans  Wriddhiman Saha  Deepak Chahar         NaN       1  ...  \\\n",
       "1  Gujarat Titans  Wriddhiman Saha  Deepak Chahar         NaN       1  ...   \n",
       "2  Gujarat Titans  Wriddhiman Saha  Deepak Chahar         NaN       1  ...   \n",
       "\n",
       "   BowlTypeName          ShotType  IsBouncer  BallCount  TotalRuns   \n",
       "0    OUTSWINGER   FORWARD DEFENCE          0          1          0  \\\n",
       "1    OUTSWINGER          CUT SHOT          0          2          0   \n",
       "2     ANGLED IN  BACKFOOT DEFENCE          0          3          1   \n",
       "\n",
       "     BOWLING_LINE_ID     BOWLING_LENGTH_ID  IsFifty  IsHundred  IsHattrick  \n",
       "0          Off stump           Good Length        0          0           0  \n",
       "1  Outside Off stump           Good Length        0          0           0  \n",
       "2  Outside Off stump  Short of Good Length        0          0           0  \n",
       "\n",
       "[3 rows x 41 columns]"
      ]
     },
     "execution_count": 7,
     "metadata": {},
     "output_type": "execute_result"
    }
   ],
   "source": [
    "#This is code which we created in above cell but with lambda function\n",
    "Powerplay_Bat = df[df['OverNo'] < 6].groupby('BatsManName').filter(lambda x: x['BallNo'].count() > 40)\n",
    "Powerplay_Bat.head(3)"
   ]
  },
  {
   "cell_type": "code",
   "execution_count": null,
   "id": "cadc8207",
   "metadata": {},
   "outputs": [],
   "source": []
  },
  {
   "cell_type": "markdown",
   "id": "e11394c2",
   "metadata": {},
   "source": [
    "<font color='blue'> <H3> 1.Find How many runs are scored by batsman in powerplay </H3> </font>"
   ]
  },
  {
   "cell_type": "code",
   "execution_count": 8,
   "id": "99de9acf",
   "metadata": {},
   "outputs": [
    {
     "data": {
      "text/plain": [
       "BatsManName\n",
       "Yashasvi Jaiswal    337\n",
       "Faf Du Plessis      318\n",
       "Ruturaj Gaikwad     299\n",
       "Ishan Kishan        287\n",
       "Wriddhiman Saha     268\n",
       "Shubman Gill        261\n",
       "Virat Kohli         259\n",
       "Kyle Mayers         252\n",
       "David Warner        243\n",
       "Devon Conway        235\n",
       "Name: ActualRuns, dtype: int64"
      ]
     },
     "execution_count": 8,
     "metadata": {},
     "output_type": "execute_result"
    }
   ],
   "source": [
    "PP_bat_run = Powerplay_Bat.groupby('BatsManName')['ActualRuns'].sum()\n",
    "sort_PP_bat_run = PP_bat_run.sort_values(ascending=False).head(10)\n",
    "sort_PP_bat_run"
   ]
  },
  {
   "cell_type": "markdown",
   "id": "295fa3fa",
   "metadata": {},
   "source": [
    "<font color='blue'> <H3> 2. Find total number ball faced by batsman in Powerplay </H3> </font>"
   ]
  },
  {
   "cell_type": "code",
   "execution_count": 9,
   "id": "54ea3333",
   "metadata": {},
   "outputs": [
    {
     "data": {
      "text/plain": [
       "BatsManName\n",
       "Ruturaj Gaikwad     214\n",
       "Wriddhiman Saha     210\n",
       "Ishan Kishan        207\n",
       "Yashasvi Jaiswal    197\n",
       "Devon Conway        197\n",
       "Virat Kohli         195\n",
       "Kyle Mayers         194\n",
       "Shubman Gill        193\n",
       "Faf Du Plessis      187\n",
       "David Warner        177\n",
       "Name: BallNo, dtype: int64"
      ]
     },
     "execution_count": 9,
     "metadata": {},
     "output_type": "execute_result"
    }
   ],
   "source": [
    "ppb_ball = Powerplay_Bat.groupby('BatsManName')['BallNo'].count()\n",
    "ppb_ball.sort_values(ascending=False).head(10)"
   ]
  },
  {
   "cell_type": "markdown",
   "id": "5af2b7f5",
   "metadata": {},
   "source": [
    "<font color='blue'> <H3> 3.Find the Strike rate of batsman in powerplay  </H3> </font>"
   ]
  },
  {
   "cell_type": "code",
   "execution_count": 10,
   "id": "7fc8e050",
   "metadata": {},
   "outputs": [
    {
     "data": {
      "text/plain": [
       "BatsManName\n",
       "Ajinkya Rahane      206.82\n",
       "Yashasvi Jaiswal    171.07\n",
       "Faf Du Plessis      170.05\n",
       "Cameron Green       157.33\n",
       "Quinton De Kock     148.89\n",
       "Phil Salt           144.78\n",
       "Atharva Taide       142.11\n",
       "Ruturaj Gaikwad     139.72\n",
       "Ishan Kishan        138.65\n",
       "David Warner        137.29\n",
       "dtype: float64"
      ]
     },
     "execution_count": 10,
     "metadata": {},
     "output_type": "execute_result"
    }
   ],
   "source": [
    "bat_SR = (PP_bat_run/ppb_ball*100).round(2)\n",
    "bat_SR.sort_values(ascending = False).head(10)"
   ]
  },
  {
   "cell_type": "markdown",
   "id": "0b4192d2",
   "metadata": {},
   "source": [
    "<font color='blue'> <H3> 4.Find the all player count for how many innings they have played in powerplay </H3> </font>"
   ]
  },
  {
   "cell_type": "code",
   "execution_count": 11,
   "id": "732b0887",
   "metadata": {},
   "outputs": [
    {
     "data": {
      "text/plain": [
       "BatsManName\n",
       "Shubman Gill        17\n",
       "Wriddhiman Saha     17\n",
       "Rohit Sharma        16\n",
       "Ruturaj Gaikwad     15\n",
       "Ishan Kishan        15\n",
       "Devon Conway        15\n",
       "Yashasvi Jaiswal    14\n",
       "Jos Buttler         14\n",
       "Simran Singh        14\n",
       "Faf Du Plessis      14\n",
       "Name: MatchID, dtype: int64"
      ]
     },
     "execution_count": 11,
     "metadata": {},
     "output_type": "execute_result"
    }
   ],
   "source": [
    "inn_played = Powerplay_Bat.groupby('BatsManName')['MatchID'].nunique()\n",
    "inn_played.sort_values(ascending = False).head(10)"
   ]
  },
  {
   "cell_type": "markdown",
   "id": "dfb1a40a",
   "metadata": {},
   "source": [
    "<font color='blue'> <H3> 5.Find how many time batsman was out during powerplay overs </H3> </font>"
   ]
  },
  {
   "cell_type": "code",
   "execution_count": 12,
   "id": "9aac3d91",
   "metadata": {},
   "outputs": [
    {
     "data": {
      "text/plain": [
       "BatsManName\n",
       "Wriddhiman Saha       12\n",
       "Rohit Sharma          10\n",
       "Simran Singh           8\n",
       "Rahmanullah Gurbaz     7\n",
       "Prithvi Shaw           7\n",
       "Jos Buttler            6\n",
       "Rahul Tripathi         6\n",
       "Ishan Kishan           6\n",
       "Kyle Mayers            6\n",
       "Abhishek Sharma        5\n",
       "dtype: int64"
      ]
     },
     "execution_count": 12,
     "metadata": {},
     "output_type": "execute_result"
    }
   ],
   "source": [
    "Bat_Out = Powerplay_Bat[Powerplay_Bat['IsWicket']==1].groupby('BatsManName').size()\n",
    "Bat_Out.sort_values(ascending = False).head(10)"
   ]
  },
  {
   "cell_type": "markdown",
   "id": "4ac1c573",
   "metadata": {},
   "source": [
    "<font color='blue'> <H3> 6.Find batsman average run during powerplay </H3> </font>"
   ]
  },
  {
   "cell_type": "code",
   "execution_count": 13,
   "id": "ba0eb75f",
   "metadata": {},
   "outputs": [
    {
     "data": {
      "text/plain": [
       "BatsManName\n",
       "Venkatesh Iyer        24.20\n",
       "Simran Singh          23.50\n",
       "Wriddhiman Saha       22.33\n",
       "Rohit Sharma          21.40\n",
       "Abhishek Sharma       18.60\n",
       "Rahmanullah Gurbaz    18.14\n",
       "Jagadeesan Narayan    15.50\n",
       "Mitchell Marsh        13.50\n",
       "Rahul Tripathi        11.83\n",
       "Prithvi Shaw          11.00\n",
       "dtype: float64"
      ]
     },
     "execution_count": 13,
     "metadata": {},
     "output_type": "execute_result"
    }
   ],
   "source": [
    "avg_bat_run = (PP_bat_run/Bat_Out).round(2)\n",
    "avg_bat_run = avg_bat_run.dropna() #.replace([np.inf, -np.inf], np.nan)\n",
    "avg_bat_run.sort_values(ascending=False).tail(10)"
   ]
  },
  {
   "cell_type": "markdown",
   "id": "a810ea9d",
   "metadata": {},
   "source": [
    "<font color='blue'> <H3> 7. Find how many time batsman was not out during powerplay </H3> </font>"
   ]
  },
  {
   "cell_type": "code",
   "execution_count": 14,
   "id": "9c897c2f",
   "metadata": {},
   "outputs": [
    {
     "data": {
      "text/plain": [
       "BatsManName\n",
       "Faf Du Plessis      12.0\n",
       "Shubman Gill        12.0\n",
       "David Warner        12.0\n",
       "Devon Conway        12.0\n",
       "Ruturaj Gaikwad     11.0\n",
       "Virat Kohli         10.0\n",
       "Ishan Kishan         9.0\n",
       "Yashasvi Jaiswal     9.0\n",
       "Cameron Green        9.0\n",
       "Jos Buttler          8.0\n",
       "dtype: float64"
      ]
     },
     "execution_count": 14,
     "metadata": {},
     "output_type": "execute_result"
    }
   ],
   "source": [
    "PP_N_Out=(inn_played - Bat_Out)\n",
    "PP_N_Out = PP_N_Out.dropna()\n",
    "PP_N_Out.sort_values(ascending=False).head(10)"
   ]
  },
  {
   "cell_type": "markdown",
   "id": "9470e5b3",
   "metadata": {},
   "source": [
    "<font color='blue'> <H3> 8. Find total number time batsman scored more than 50 runs during powerplay </H3> </font>"
   ]
  },
  {
   "cell_type": "code",
   "execution_count": 15,
   "id": "8301749c",
   "metadata": {},
   "outputs": [
    {
     "data": {
      "text/plain": [
       "BatsManName\n",
       "Yashasvi Jaiswal    4\n",
       "Kyle Mayers         3\n",
       "Faf Du Plessis      3\n",
       "Shubman Gill        2\n",
       "Rohit Sharma        2\n",
       "Ajinkya Rahane      2\n",
       "Ruturaj Gaikwad     2\n",
       "Jos Buttler         2\n",
       "Shikhar Dhawan      2\n",
       "Ishan Kishan        2\n",
       "Name: IsFifty, dtype: int64"
      ]
     },
     "execution_count": 15,
     "metadata": {},
     "output_type": "execute_result"
    }
   ],
   "source": [
    "fifty_count = Powerplay_Bat.groupby('BatsManName')['IsFifty'].sum()\n",
    "fifty_count.sort_values(ascending = False).head(10)\n",
    "\n",
    "#TO See Data in Dataframe Format rub below code\n",
    "#fifty_count = Powerplay_Bat.groupby('BatsManName')['IsFifty'].sum().reset_index()\n",
    "#fifty_count.sort_values(by='IsFifty', ascending = False).head(10)"
   ]
  },
  {
   "cell_type": "markdown",
   "id": "f9fff8aa",
   "metadata": {},
   "source": [
    "<font color='blue'> <H3> 9.Find total number of six hit by Batsman during powerplay </H3> </font>"
   ]
  },
  {
   "cell_type": "code",
   "execution_count": 16,
   "id": "44870bdd",
   "metadata": {},
   "outputs": [
    {
     "data": {
      "text/plain": [
       "BatsManName\n",
       "Faf Du Plessis        17\n",
       "Ishan Kishan          14\n",
       "Rohit Sharma          12\n",
       "Kyle Mayers           12\n",
       "Ruturaj Gaikwad       12\n",
       "Yashasvi Jaiswal      12\n",
       "Rahmanullah Gurbaz     9\n",
       "Simran Singh           7\n",
       "Wriddhiman Saha        7\n",
       "Venkatesh Iyer         7\n",
       "Name: IsSix, dtype: int64"
      ]
     },
     "execution_count": 16,
     "metadata": {},
     "output_type": "execute_result"
    }
   ],
   "source": [
    "six_count = Powerplay_Bat.groupby('BatsManName')['IsSix'].sum()\n",
    "six_count.sort_values(ascending = False).head(10)\n",
    "\n",
    "# OR For see output in DataFrame Format\n",
    "#six_count = Powerplay_Bat.groupby('BatsManName')['IsSix'].sum().reset_index()\n",
    "#six_count.sort_values(by='IsSix', ascending=False).head(10)"
   ]
  },
  {
   "cell_type": "markdown",
   "id": "d5b11f25",
   "metadata": {},
   "source": [
    "<font color='blue'> <H3> 10.Find total number of Four hit by Batsman during powerplay </H3> </font>"
   ]
  },
  {
   "cell_type": "code",
   "execution_count": 17,
   "id": "4bd12a2f",
   "metadata": {},
   "outputs": [
    {
     "data": {
      "text/plain": [
       "BatsManName\n",
       "Yashasvi Jaiswal    54\n",
       "David Warner        42\n",
       "Wriddhiman Saha     38\n",
       "Virat Kohli         38\n",
       "Faf Du Plessis      36\n",
       "Shubman Gill        36\n",
       "Ishan Kishan        35\n",
       "Devon Conway        32\n",
       "Ruturaj Gaikwad     32\n",
       "Kyle Mayers         31\n",
       "Name: IsFour, dtype: int64"
      ]
     },
     "execution_count": 17,
     "metadata": {},
     "output_type": "execute_result"
    }
   ],
   "source": [
    "four_count = Powerplay_Bat.groupby('BatsManName')['IsFour'].sum()\n",
    "four_count.sort_values(ascending = False).head(10)\n",
    "\n",
    "# OR For see output in DataFrame Format\n",
    "#four_count = Powerplay_Bat.groupby('BatsManName')['IsFour'].sum().reset_index()\n",
    "#four_count.sort_values(by='IsSix', ascending=False).head(10)"
   ]
  },
  {
   "cell_type": "markdown",
   "id": "d4d0cd36",
   "metadata": {},
   "source": [
    "<font color='blue'> <H3> Total Run by batsman with 4(Four) during powerplay </H3> </font>"
   ]
  },
  {
   "cell_type": "code",
   "execution_count": 18,
   "id": "49f263bd",
   "metadata": {},
   "outputs": [
    {
     "data": {
      "text/plain": [
       "BatsManName\n",
       "Yashasvi Jaiswal    216\n",
       "David Warner        168\n",
       "Wriddhiman Saha     152\n",
       "Virat Kohli         152\n",
       "Faf Du Plessis      144\n",
       "Shubman Gill        144\n",
       "Ishan Kishan        140\n",
       "Devon Conway        128\n",
       "Ruturaj Gaikwad     128\n",
       "Kyle Mayers         124\n",
       "Name: IsFour, dtype: int64"
      ]
     },
     "execution_count": 18,
     "metadata": {},
     "output_type": "execute_result"
    }
   ],
   "source": [
    "bat_four_run = Powerplay_Bat.groupby('BatsManName')['IsFour'].sum() * 4\n",
    "bat_four_run.sort_values(ascending = False).head(10)"
   ]
  },
  {
   "cell_type": "markdown",
   "id": "a453cbbd",
   "metadata": {},
   "source": [
    "<font color='blue'> <H3> Total Run by batsman with 6(Six) during powerplay </H3> </font>"
   ]
  },
  {
   "cell_type": "code",
   "execution_count": 19,
   "id": "1f53cbb8",
   "metadata": {},
   "outputs": [
    {
     "data": {
      "text/plain": [
       "BatsManName\n",
       "Faf Du Plessis        102\n",
       "Ishan Kishan           84\n",
       "Rohit Sharma           72\n",
       "Kyle Mayers            72\n",
       "Ruturaj Gaikwad        72\n",
       "Yashasvi Jaiswal       72\n",
       "Rahmanullah Gurbaz     54\n",
       "Simran Singh           42\n",
       "Wriddhiman Saha        42\n",
       "Venkatesh Iyer         42\n",
       "Name: IsSix, dtype: int64"
      ]
     },
     "execution_count": 19,
     "metadata": {},
     "output_type": "execute_result"
    }
   ],
   "source": [
    "bat_six_run = Powerplay_Bat.groupby('BatsManName')['IsSix'].sum() * 6\n",
    "bat_six_run.sort_values(ascending = False).head(10)"
   ]
  },
  {
   "cell_type": "markdown",
   "id": "a430d21a",
   "metadata": {},
   "source": [
    "<font color='blue'> <H3> Total Run by Batsman with boundries {4(Four) or 6(six)} during powerplay </H3> </font>"
   ]
  },
  {
   "cell_type": "code",
   "execution_count": 20,
   "id": "22ce4dd2",
   "metadata": {},
   "outputs": [
    {
     "data": {
      "text/plain": [
       "BatsManName\n",
       "Yashasvi Jaiswal    288\n",
       "Faf Du Plessis      246\n",
       "Ishan Kishan        224\n",
       "Ruturaj Gaikwad     200\n",
       "David Warner        198\n",
       "Kyle Mayers         196\n",
       "Wriddhiman Saha     194\n",
       "Rohit Sharma        172\n",
       "Virat Kohli         170\n",
       "Shubman Gill        162\n",
       "dtype: int64"
      ]
     },
     "execution_count": 20,
     "metadata": {},
     "output_type": "execute_result"
    }
   ],
   "source": [
    "bat_boundry_run = bat_four_run + bat_six_run\n",
    "bat_boundry_run.sort_values(ascending = False).head(10)"
   ]
  },
  {
   "cell_type": "markdown",
   "id": "96b5a7fe",
   "metadata": {},
   "source": [
    "<font color='blue'> <H3> Percentage boundries run Batsman during powerplay </H3> </font>"
   ]
  },
  {
   "cell_type": "code",
   "execution_count": 21,
   "id": "374bd80d",
   "metadata": {},
   "outputs": [
    {
     "data": {
      "text/plain": [
       "BatsManName\n",
       "Yashasvi Jaiswal      85.46\n",
       "Cameron Green         84.75\n",
       "Rahmanullah Gurbaz    83.46\n",
       "Simran Singh          81.91\n",
       "David Warner          81.48\n",
       "Jagadeesan Narayan    80.65\n",
       "Matthew Short         80.43\n",
       "Rohit Sharma          80.37\n",
       "Harry Brook           80.00\n",
       "Atharva Taide         79.01\n",
       "dtype: float64"
      ]
     },
     "execution_count": 21,
     "metadata": {},
     "output_type": "execute_result"
    }
   ],
   "source": [
    "per_bat_bound_run = (bat_boundry_run/PP_bat_run*100).round(2)\n",
    "per_bat_bound_run.sort_values(ascending = False).head(10)"
   ]
  },
  {
   "cell_type": "code",
   "execution_count": null,
   "id": "cb522521",
   "metadata": {},
   "outputs": [],
   "source": []
  },
  {
   "cell_type": "code",
   "execution_count": null,
   "id": "936bb589",
   "metadata": {},
   "outputs": [],
   "source": []
  },
  {
   "cell_type": "code",
   "execution_count": null,
   "id": "09663c5e",
   "metadata": {},
   "outputs": [],
   "source": []
  },
  {
   "cell_type": "code",
   "execution_count": null,
   "id": "0b4c7d53",
   "metadata": {},
   "outputs": [],
   "source": []
  },
  {
   "cell_type": "code",
   "execution_count": null,
   "id": "db0de267",
   "metadata": {},
   "outputs": [],
   "source": []
  },
  {
   "cell_type": "code",
   "execution_count": null,
   "id": "a67e382e",
   "metadata": {},
   "outputs": [],
   "source": []
  },
  {
   "cell_type": "code",
   "execution_count": 22,
   "id": "fba31e16",
   "metadata": {},
   "outputs": [
    {
     "data": {
      "text/plain": [
       "Index(['BallUniqueID', 'ActualBallNo', 'MatchID', 'InningsNo', 'BattingTeamID',\n",
       "       'TeamName', 'BatsManName', 'BowlerName', 'BowlerType', 'OverNo',\n",
       "       'BallNo', 'Runs', 'ActualRuns', 'IsOne', 'IsTwo', 'IsThree',\n",
       "       'IsDotball', 'Extras', 'IsWide', 'IsNoBall', 'IsBye', 'IsLegBye',\n",
       "       'IsFour', 'IsSix', 'IsWicket', 'WicketType', 'IsBowlerWicket',\n",
       "       'BallName', 'CommentStrikers', 'IsExtra', 'IsMaiden', 'BowlTypeName',\n",
       "       'ShotType', 'IsBouncer', 'BallCount', 'TotalRuns', 'BOWLING_LINE_ID',\n",
       "       'BOWLING_LENGTH_ID', 'IsFifty', 'IsHundred', 'IsHattrick'],\n",
       "      dtype='object')"
      ]
     },
     "execution_count": 22,
     "metadata": {},
     "output_type": "execute_result"
    }
   ],
   "source": [
    "Powerplay_Bat.columns"
   ]
  },
  {
   "cell_type": "markdown",
   "id": "9adcadfc",
   "metadata": {},
   "source": [
    "# <font color='red'> <H2> BOWLER </H2> </font>"
   ]
  },
  {
   "cell_type": "code",
   "execution_count": 23,
   "id": "ded1a1ba",
   "metadata": {},
   "outputs": [
    {
     "data": {
      "text/plain": [
       "(3859, 41)"
      ]
     },
     "execution_count": 23,
     "metadata": {},
     "output_type": "execute_result"
    }
   ],
   "source": [
    "#This is code which we created in above cell but with lambda function\n",
    "Powerplay_bow = df[df['OverNo'] < 6].groupby('BowlerName').filter(lambda x: x['BallNo'].count() > 25)\n",
    "Powerplay_bow.shape"
   ]
  },
  {
   "cell_type": "code",
   "execution_count": 24,
   "id": "c58c1c91",
   "metadata": {},
   "outputs": [],
   "source": [
    "#Creating new Dataframe as Powerplay_Batsman (Include only those player who played more than 40 ball in first 6 overs during entire season)\n",
    "#over_6_filter = df['OverNo'] < 6\n",
    "#ballno_counts = df[over_6_filter].groupby('BowlerName')['BallNo'].count()\n",
    "#Bowler_25 = ballno_counts[ballno_counts > 25]\n",
    "#Powerplay_bow = df[df['BowlerName'].isin(Bowler_25.index) & over_6_filter]\n",
    "#Powerplay_bow.shape"
   ]
  },
  {
   "cell_type": "code",
   "execution_count": 25,
   "id": "f935eb47",
   "metadata": {},
   "outputs": [
    {
     "data": {
      "text/plain": [
       "Index(['BallUniqueID', 'ActualBallNo', 'MatchID', 'InningsNo', 'BattingTeamID',\n",
       "       'TeamName', 'BatsManName', 'BowlerName', 'BowlerType', 'OverNo',\n",
       "       'BallNo', 'Runs', 'ActualRuns', 'IsOne', 'IsTwo', 'IsThree',\n",
       "       'IsDotball', 'Extras', 'IsWide', 'IsNoBall', 'IsBye', 'IsLegBye',\n",
       "       'IsFour', 'IsSix', 'IsWicket', 'WicketType', 'IsBowlerWicket',\n",
       "       'BallName', 'CommentStrikers', 'IsExtra', 'IsMaiden', 'BowlTypeName',\n",
       "       'ShotType', 'IsBouncer', 'BallCount', 'TotalRuns', 'BOWLING_LINE_ID',\n",
       "       'BOWLING_LENGTH_ID', 'IsFifty', 'IsHundred', 'IsHattrick'],\n",
       "      dtype='object')"
      ]
     },
     "execution_count": 25,
     "metadata": {},
     "output_type": "execute_result"
    }
   ],
   "source": [
    "Powerplay_bow.columns"
   ]
  },
  {
   "cell_type": "markdown",
   "id": "602b57c6",
   "metadata": {},
   "source": [
    "<font color='blue'> <H3> 1. Find which bowler gave how many run in powerplay </H3> </font>"
   ]
  },
  {
   "cell_type": "code",
   "execution_count": 26,
   "id": "f9c364fe",
   "metadata": {},
   "outputs": [
    {
     "data": {
      "text/plain": [
       "BowlerName\n",
       "Mohammad Shami       313\n",
       "Deepak Chahar        222\n",
       "Tushar Deshpande     213\n",
       "Arshdeep Singh       204\n",
       "Jason Behrendorff    197\n",
       "Bhuvneshwar Kumar    187\n",
       "Trent Boult          171\n",
       "Sandeep Sharma       167\n",
       "Mohammed Siraj       163\n",
       "Hardik Pandya        148\n",
       "Name: ActualRuns, dtype: int64"
      ]
     },
     "execution_count": 26,
     "metadata": {},
     "output_type": "execute_result"
    }
   ],
   "source": [
    "PPB_run = Powerplay_bow.groupby('BowlerName')['ActualRuns'].sum()\n",
    "PPB_run.sort_values(ascending = False).head(10)"
   ]
  },
  {
   "cell_type": "markdown",
   "id": "23ad493a",
   "metadata": {},
   "source": [
    "<font color='blue'> <H3> 2. Find how many wickets is taken by which bowler in poweplay </H3> </font>"
   ]
  },
  {
   "cell_type": "code",
   "execution_count": 27,
   "id": "774ccd3b",
   "metadata": {},
   "outputs": [],
   "source": [
    "#PB_wkt = Powerplay_bow.groupby('BowlerName')['IsWicket'].sum()\n",
    "#PPB_wkt.sort_values(ascending = False).tail(10)"
   ]
  },
  {
   "cell_type": "code",
   "execution_count": 28,
   "id": "8a16095f",
   "metadata": {},
   "outputs": [
    {
     "data": {
      "text/plain": [
       "BowlerName\n",
       "Mohammad Shami       17\n",
       "Trent Boult          10\n",
       "Mohammed Siraj       10\n",
       "Deepak Chahar        10\n",
       "Jason Behrendorff     8\n",
       "Tushar Deshpande      7\n",
       "Marco Jansen          7\n",
       "Arshdeep Singh        6\n",
       "Bhuvneshwar Kumar     6\n",
       "Wayne Parnell         5\n",
       "Name: IsBowlerWicket, dtype: int64"
      ]
     },
     "execution_count": 28,
     "metadata": {},
     "output_type": "execute_result"
    }
   ],
   "source": [
    "PPB_wk = Powerplay_bow[Powerplay_bow['IsBowlerWicket'] == 1].groupby('BowlerName')['IsBowlerWicket'].sum()\n",
    "PPB_wk.sort_values(ascending=False).head(10)"
   ]
  },
  {
   "cell_type": "markdown",
   "id": "9da50104",
   "metadata": {},
   "source": [
    "<font color='blue'> <H3> 3. Find the all bowler average who have bowled more than 25 ball and taken atleast 1 wicket in powerplay </H3> </font>"
   ]
  },
  {
   "cell_type": "code",
   "execution_count": 29,
   "id": "ac5005b0",
   "metadata": {},
   "outputs": [
    {
     "data": {
      "text/plain": [
       "BowlerName\n",
       "Akash Madhwal     12.00\n",
       "Marco Jansen      14.57\n",
       "Mohammed Siraj    16.30\n",
       "Trent Boult       17.10\n",
       "Yudhvir Singh     18.00\n",
       "Andre Russell     18.33\n",
       "Mohammad Shami    18.41\n",
       "Wayne Parnell     19.80\n",
       "Nathan Ellis      20.50\n",
       "Ishant Sharma     20.80\n",
       "dtype: float64"
      ]
     },
     "execution_count": 29,
     "metadata": {},
     "output_type": "execute_result"
    }
   ],
   "source": [
    "bow_avg = (PPB_run/PPB_wk).round(2)\n",
    "bow_avg = bow_avg.dropna()\n",
    "bow_avg.sort_values(ascending=True).head(10)"
   ]
  },
  {
   "cell_type": "markdown",
   "id": "7ba2d483",
   "metadata": {},
   "source": [
    "<font color='blue'> <H3> 4. Find how many ball has bowled by any bolwer in powerplay. bowler must bowl more than 25 ball </H3> </font>"
   ]
  },
  {
   "cell_type": "code",
   "execution_count": 30,
   "id": "e7079064",
   "metadata": {},
   "outputs": [
    {
     "data": {
      "text/plain": [
       "BowlerName\n",
       "Mohammad Shami       275\n",
       "Mohammed Siraj       191\n",
       "Tushar Deshpande     183\n",
       "Deepak Chahar        167\n",
       "Trent Boult          161\n",
       "Bhuvneshwar Kumar    160\n",
       "Jason Behrendorff    159\n",
       "Sandeep Sharma       143\n",
       "Arshdeep Singh       137\n",
       "Krunal Pandya        108\n",
       "Name: BallNo, dtype: int64"
      ]
     },
     "execution_count": 30,
     "metadata": {},
     "output_type": "execute_result"
    }
   ],
   "source": [
    "PPB_ball = Powerplay_bow.groupby('BowlerName')['BallNo'].count()\n",
    "sort_PPB_ball = PPB_ball.sort_values(ascending=False).head(10)\n",
    "sort_PPB_ball\n",
    "#Code to convert data output to datafrmae\n",
    "#sort_PPB_ball = pd.DataFrame({'BowlerName': sort_PPB_ball.index, 'Deliveries': sort_PPB_ball.values})\n",
    "#sort_PPB_ball"
   ]
  },
  {
   "cell_type": "markdown",
   "id": "2fbb2f27",
   "metadata": {},
   "source": [
    "<font color='blue'> <H3> BAR Chart </H3> </font>"
   ]
  },
  {
   "cell_type": "code",
   "execution_count": 31,
   "id": "3b089c2f",
   "metadata": {},
   "outputs": [],
   "source": [
    "#plt.figure(figsize=(8, 2))\n",
    "#sort_PPB_ball.plot(kind='bar')\n",
    "#plt.xlabel('Bowler Name')\n",
    "#plt.ylabel('Ball Count')\n",
    "#plt.title('Top 10 Bowlers - Powerplay Ball Count')\n",
    "#plt.xticks(rotation=45)\n",
    "#plt.show()"
   ]
  },
  {
   "cell_type": "markdown",
   "id": "e8fac43f",
   "metadata": {},
   "source": [
    "<font color='blue'> <H3> Horizontal BAR Chart </H3> </font>"
   ]
  },
  {
   "cell_type": "code",
   "execution_count": 32,
   "id": "97808459",
   "metadata": {},
   "outputs": [],
   "source": [
    "#plt.figure(figsize=(5, 3))\n",
    "#sort_PPB_ball.plot(kind='barh')\n",
    "#plt.xlabel('Ball Count')\n",
    "#plt.ylabel('Bowler Name')\n",
    "#plt.title('Top 10 Bowlers - Powerplay Ball Count')\n",
    "#plt.show()"
   ]
  },
  {
   "cell_type": "markdown",
   "id": "9a82970d",
   "metadata": {},
   "source": [
    "<font color='blue'> <H3> 5. Find the all bowler Strike Rate who have bowled more than 25 ball and taken atleast 1 wicket in powerplay </H3> </font>"
   ]
  },
  {
   "cell_type": "code",
   "execution_count": 33,
   "id": "095b384f",
   "metadata": {},
   "outputs": [
    {
     "data": {
      "text/plain": [
       "BowlerName\n",
       "Akash Madhwal     10.00\n",
       "Andre Russell     11.00\n",
       "Marco Jansen      14.14\n",
       "Yudhvir Singh     14.67\n",
       "Wayne Parnell     16.00\n",
       "Trent Boult       16.10\n",
       "Mohammad Shami    16.18\n",
       "Deepak Chahar     16.70\n",
       "Ishant Sharma     17.20\n",
       "Nathan Ellis      18.00\n",
       "dtype: float64"
      ]
     },
     "execution_count": 33,
     "metadata": {},
     "output_type": "execute_result"
    }
   ],
   "source": [
    "bow_SR = (PPB_ball/PPB_wk).round(2)\n",
    "bow_SR = bow_SR.dropna()\n",
    "bow_SR.sort_values(ascending = True).head(10)"
   ]
  },
  {
   "cell_type": "markdown",
   "id": "5b5a4053",
   "metadata": {},
   "source": [
    "<font color='blue'> <H3> 6. Find the all bowler Economy Rate who have bowled more than 25 ball and taken atleast 1 wicket in powerplay </H3> </font>"
   ]
  },
  {
   "cell_type": "code",
   "execution_count": 34,
   "id": "048e166d",
   "metadata": {},
   "outputs": [
    {
     "data": {
      "text/plain": [
       "BowlerName\n",
       "Arjun Tendulkar    5.11\n",
       "Mohammed Siraj     5.12\n",
       "David Willey       5.88\n",
       "Khaleel Ahmed      6.06\n",
       "Kyle Mayers        6.15\n",
       "Marco Jansen       6.18\n",
       "Trent Boult        6.37\n",
       "Cameron Green      6.78\n",
       "Nathan Ellis       6.83\n",
       "Mohammad Shami     6.83\n",
       "dtype: float64"
      ]
     },
     "execution_count": 34,
     "metadata": {},
     "output_type": "execute_result"
    }
   ],
   "source": [
    "bow_ECO = (PPB_run/PPB_ball*6).round(2)\n",
    "bow_ECO.sort_values(ascending = True).head(10)"
   ]
  },
  {
   "cell_type": "markdown",
   "id": "a4770aa7",
   "metadata": {},
   "source": [
    "<font color='blue'> <H3> 7.Find the number of Dot ball bowled by boler in powerplay </H3> </font>"
   ]
  },
  {
   "cell_type": "code",
   "execution_count": 35,
   "id": "585c8467",
   "metadata": {},
   "outputs": [
    {
     "data": {
      "text/plain": [
       "BowlerName\n",
       "Mohammad Shami       153\n",
       "Mohammed Siraj       119\n",
       "Tushar Deshpande      92\n",
       "Trent Boult           90\n",
       "Bhuvneshwar Kumar     82\n",
       "Deepak Chahar         69\n",
       "Jason Behrendorff     67\n",
       "Sandeep Sharma        61\n",
       "Arshdeep Singh        57\n",
       "Khaleel Ahmed         56\n",
       "Name: IsDotball, dtype: int64"
      ]
     },
     "execution_count": 35,
     "metadata": {},
     "output_type": "execute_result"
    }
   ],
   "source": [
    "#PPB_Dot = Powerplay_bow.groupby('BowlerName')['IsDotball'].sum().reset_index()\n",
    "#sort_bow_dot = PPB_Dot.sort_values(by='IsDotball', ascending=False).head(10)\n",
    "#sort_bow_dot\n",
    "\n",
    "PPB_Dot = Powerplay_bow.groupby('BowlerName')['IsDotball'].sum()\n",
    "sort_bow_dot = PPB_Dot.sort_values(ascending=False).head(10)\n",
    "sort_bow_dot"
   ]
  },
  {
   "cell_type": "markdown",
   "id": "ee5027c0",
   "metadata": {},
   "source": [
    "<font color='blue'> <H3> 7.Find the DOT Ball Percentage bowled by boler in powerplay </H3> </font>"
   ]
  },
  {
   "cell_type": "code",
   "execution_count": 36,
   "id": "cccdbf9d",
   "metadata": {},
   "outputs": [
    {
     "data": {
      "text/plain": [
       "BowlerName\n",
       "Ravichandran Ashwin    4.57\n",
       "Rashid Khan            4.50\n",
       "Mohsin Khan            3.86\n",
       "Arshad Khan            3.20\n",
       "Andre Russell          3.00\n",
       "Kyle Mayers            3.00\n",
       "Vaibhav Arora          2.94\n",
       "T Natarajan            2.89\n",
       "Jaydev Unadkat         2.89\n",
       "Varun Chakaravarthy    2.85\n",
       "dtype: float64"
      ]
     },
     "execution_count": 36,
     "metadata": {},
     "output_type": "execute_result"
    }
   ],
   "source": [
    "dot_ball_per = (PPB_ball/PPB_Dot).round(2)\n",
    "dot_ball_per.sort_values(ascending = False).head(10)"
   ]
  },
  {
   "cell_type": "markdown",
   "id": "4633e3c7",
   "metadata": {},
   "source": [
    "<font color='blue'> <H3> Find How many time bowler given 4(Boundry)  during powerplay </H3> </font>"
   ]
  },
  {
   "cell_type": "code",
   "execution_count": 37,
   "id": "bbbbe4b5",
   "metadata": {},
   "outputs": [
    {
     "data": {
      "text/plain": [
       "BowlerName\n",
       "Mohammad Shami       42\n",
       "Arshdeep Singh       35\n",
       "Mohammed Siraj       30\n",
       "Bhuvneshwar Kumar    29\n",
       "Trent Boult          28\n",
       "Deepak Chahar        28\n",
       "Tushar Deshpande     25\n",
       "Jason Behrendorff    24\n",
       "Hardik Pandya        23\n",
       "Avesh Khan           19\n",
       "Name: IsFour, dtype: int64"
      ]
     },
     "execution_count": 37,
     "metadata": {},
     "output_type": "execute_result"
    }
   ],
   "source": [
    "bow_four_count = Powerplay_bow.groupby('BowlerName')['IsFour'].sum()\n",
    "bow_four_count.sort_values(ascending = False).head(10)"
   ]
  },
  {
   "cell_type": "markdown",
   "id": "814d39ef",
   "metadata": {},
   "source": [
    "<font color='blue'> <H3> Find four percentage count from total ball bowled by bowler during powerplay </H3> </font>"
   ]
  },
  {
   "cell_type": "code",
   "execution_count": 38,
   "id": "957f710f",
   "metadata": {},
   "outputs": [
    {
     "data": {
      "text/plain": [
       "BowlerName\n",
       "Arjun Tendulkar      6.38\n",
       "Jaydev Unadkat      11.54\n",
       "David Willey        12.24\n",
       "Kyle Mayers         12.82\n",
       "Umesh Yadav         12.94\n",
       "Sunil Narine        13.16\n",
       "Sandeep Sharma      13.29\n",
       "Naveen-ul-Haq       13.33\n",
       "Josh Hazlewood      13.33\n",
       "Tushar Deshpande    13.66\n",
       "dtype: float64"
      ]
     },
     "execution_count": 38,
     "metadata": {},
     "output_type": "execute_result"
    }
   ],
   "source": [
    "four_bow_per = (bow_four_count/PPB_ball*100).round(2)\n",
    "four_bow_per = four_bow_per.dropna()\n",
    "four_bow_per.sort_values(ascending = True).head(10)"
   ]
  },
  {
   "cell_type": "markdown",
   "id": "7e1dca76",
   "metadata": {},
   "source": [
    "<font color='blue'> <H3> Find How many time bowler given 6 (six) during powerplay </H3> </font>"
   ]
  },
  {
   "cell_type": "code",
   "execution_count": 39,
   "id": "6206708f",
   "metadata": {},
   "outputs": [
    {
     "data": {
      "text/plain": [
       "BowlerName\n",
       "Mohammad Shami       11\n",
       "Tushar Deshpande      9\n",
       "Umesh Yadav           8\n",
       "Akash Singh           7\n",
       "Deepak Chahar         7\n",
       "Jason Behrendorff     6\n",
       "Hardik Pandya         6\n",
       "Sandeep Sharma        5\n",
       "Arshdeep Singh        5\n",
       "Kagiso Rabada         5\n",
       "Name: IsSix, dtype: int64"
      ]
     },
     "execution_count": 39,
     "metadata": {},
     "output_type": "execute_result"
    }
   ],
   "source": [
    "six_per_bowl = Powerplay_bow.groupby('BowlerName')['IsSix'].sum()\n",
    "six_per_bowl.sort_values(ascending = False).head(10)"
   ]
  },
  {
   "cell_type": "markdown",
   "id": "87bcc77b",
   "metadata": {},
   "source": [
    "<font color='blue'> <H3> Find SIX percentage count from total ball bowled by bowler during powerplay </H3> </font>"
   ]
  },
  {
   "cell_type": "code",
   "execution_count": 40,
   "id": "9325f355",
   "metadata": {},
   "outputs": [
    {
     "data": {
      "text/plain": [
       "BowlerName\n",
       "Akash Madhwal        0.00\n",
       "Nathan Ellis         0.00\n",
       "Andre Russell        0.00\n",
       "Kyle Mayers          0.00\n",
       "Fazalhaq Farooqi     0.00\n",
       "Khaleel Ahmed        0.98\n",
       "Ishant Sharma        1.16\n",
       "Trent Boult          1.24\n",
       "Bhuvneshwar Kumar    1.88\n",
       "Vaibhav Arora        2.00\n",
       "dtype: float64"
      ]
     },
     "execution_count": 40,
     "metadata": {},
     "output_type": "execute_result"
    }
   ],
   "source": [
    "six_four_per = (six_per_bowl/PPB_ball*100).round(2)\n",
    "six_four_per = six_four_per.dropna()\n",
    "six_four_per.sort_values(ascending = True).head(10)"
   ]
  },
  {
   "cell_type": "markdown",
   "id": "6de5fcfd",
   "metadata": {},
   "source": [
    "<font color='blue'> <H3> 8.Find on which type of delivery bowler has taken how many wicket during powerplay </H3> </font>"
   ]
  },
  {
   "cell_type": "code",
   "execution_count": 41,
   "id": "c10a3a01",
   "metadata": {},
   "outputs": [
    {
     "data": {
      "text/plain": [
       "array(['Good Length', 'Short of Good Length', 'Full Length',\n",
       "       'Short Length', 'Yorker', nan, 'Full Toss'], dtype=object)"
      ]
     },
     "execution_count": 41,
     "metadata": {},
     "output_type": "execute_result"
    }
   ],
   "source": [
    "Powerplay_bow['BOWLING_LENGTH_ID'].unique()"
   ]
  },
  {
   "cell_type": "markdown",
   "id": "332d5a53",
   "metadata": {},
   "source": [
    "<font color='Red'> <H4> Good Length Wicket count </H4> </font>"
   ]
  },
  {
   "cell_type": "code",
   "execution_count": 42,
   "id": "e590438e",
   "metadata": {},
   "outputs": [
    {
     "data": {
      "text/plain": [
       "BowlerName\n",
       "Mohammad Shami       10\n",
       "Mohammed Siraj        6\n",
       "Jason Behrendorff     5\n",
       "Tushar Deshpande      4\n",
       "Marco Jansen          4\n",
       "Akash Madhwal         3\n",
       "Akash Singh           3\n",
       "Bhuvneshwar Kumar     3\n",
       "Wayne Parnell         2\n",
       "Trent Boult           2\n",
       "dtype: int64"
      ]
     },
     "execution_count": 42,
     "metadata": {},
     "output_type": "execute_result"
    }
   ],
   "source": [
    "Good_Len_Wkt = Powerplay_bow[(Powerplay_bow['BOWLING_LENGTH_ID'] == 'Good Length') & (Powerplay_bow['IsBowlerWicket'] == 1)]\n",
    "Bow_wicket = Good_Len_Wkt.groupby('BowlerName').size()\n",
    "Bow_wicket.sort_values(ascending = False).head(10)"
   ]
  },
  {
   "cell_type": "markdown",
   "id": "b92f9d8d",
   "metadata": {},
   "source": [
    "<font color='Red'> <H4> Short of Good Length Wicket count </H4> </font>"
   ]
  },
  {
   "cell_type": "code",
   "execution_count": 43,
   "id": "2cc42c11",
   "metadata": {},
   "outputs": [
    {
     "data": {
      "text/plain": [
       "BowlerName\n",
       "Deepak Chahar        6\n",
       "Mohammad Shami       5\n",
       "Jason Behrendorff    3\n",
       "Wayne Parnell        3\n",
       "Bhuvneshwar Kumar    3\n",
       "Tushar Deshpande     3\n",
       "Arshdeep Singh       2\n",
       "Hardik Pandya        2\n",
       "Anrich Nortje        2\n",
       "Kagiso Rabada        2\n",
       "dtype: int64"
      ]
     },
     "execution_count": 43,
     "metadata": {},
     "output_type": "execute_result"
    }
   ],
   "source": [
    "Short_Good_Len_Wkt = Powerplay_bow[(Powerplay_bow['BOWLING_LENGTH_ID'] == 'Short of Good Length') & (Powerplay_bow['IsBowlerWicket'] == 1)]\n",
    "Bow_wicket = Short_Good_Len_Wkt.groupby('BowlerName').size()\n",
    "Bow_wicket.sort_values(ascending = False).head(10)"
   ]
  },
  {
   "cell_type": "markdown",
   "id": "bd54eff3",
   "metadata": {},
   "source": [
    "<font color='Red'> <H4> Full Length Wicket count </H4> </font>"
   ]
  },
  {
   "cell_type": "code",
   "execution_count": 44,
   "id": "57ebec64",
   "metadata": {},
   "outputs": [
    {
     "data": {
      "text/plain": [
       "BowlerName\n",
       "Trent Boult       6\n",
       "Arshdeep Singh    2\n",
       "Deepak Chahar     2\n",
       "Ishant Sharma     2\n",
       "Mohammed Siraj    2\n",
       "Anrich Nortje     1\n",
       "Axar Patel        1\n",
       "Cameron Green     1\n",
       "Krunal Pandya     1\n",
       "Mohammad Shami    1\n",
       "dtype: int64"
      ]
     },
     "execution_count": 44,
     "metadata": {},
     "output_type": "execute_result"
    }
   ],
   "source": [
    "Full_Length_Wkt = Powerplay_bow[(Powerplay_bow['BOWLING_LENGTH_ID'] == 'Full Length') & (Powerplay_bow['IsBowlerWicket'] == 1)]\n",
    "Bow_wicket = Full_Length_Wkt.groupby('BowlerName').size()\n",
    "Bow_wicket.sort_values(ascending = False).head(10)"
   ]
  },
  {
   "cell_type": "markdown",
   "id": "bbd8c7d4",
   "metadata": {},
   "source": [
    "<font color='Red'> <H4> Short Length Wicket count </H4> </font>"
   ]
  },
  {
   "cell_type": "code",
   "execution_count": 45,
   "id": "74c53ef5",
   "metadata": {},
   "outputs": [
    {
     "data": {
      "text/plain": [
       "BowlerName\n",
       "Andre Russell     1\n",
       "Harshit Rana      1\n",
       "Ishant Sharma     1\n",
       "Marco Jansen      1\n",
       "Mohammad Shami    1\n",
       "dtype: int64"
      ]
     },
     "execution_count": 45,
     "metadata": {},
     "output_type": "execute_result"
    }
   ],
   "source": [
    "Short_Length_Wkt = Powerplay_bow[(Powerplay_bow['BOWLING_LENGTH_ID'] == 'Short Length') & (Powerplay_bow['IsBowlerWicket'] == 1)]\n",
    "Bow_wicket = Short_Length_Wkt.groupby('BowlerName').size()\n",
    "Bow_wicket.sort_values(ascending = False).head(10)"
   ]
  },
  {
   "cell_type": "markdown",
   "id": "692f2d51",
   "metadata": {},
   "source": [
    "<font color='Red'> <H4> Yorker Wicket count </H4> </font>"
   ]
  },
  {
   "cell_type": "code",
   "execution_count": 46,
   "id": "6555848a",
   "metadata": {},
   "outputs": [
    {
     "data": {
      "text/plain": [
       "BowlerName\n",
       "Trent Boult    1\n",
       "dtype: int64"
      ]
     },
     "execution_count": 46,
     "metadata": {},
     "output_type": "execute_result"
    }
   ],
   "source": [
    "Yorker_Wkt = Powerplay_bow[(Powerplay_bow['BOWLING_LENGTH_ID'] == 'Yorker') & (Powerplay_bow['IsBowlerWicket'] == 1)]\n",
    "Bow_wicket = Yorker_Wkt.groupby('BowlerName').size()\n",
    "Bow_wicket.sort_values(ascending = False).head(10)"
   ]
  },
  {
   "cell_type": "markdown",
   "id": "b0f4989d",
   "metadata": {},
   "source": [
    "<font color='Red'> <H4> Full Toss Wicket count </H4> </font>"
   ]
  },
  {
   "cell_type": "code",
   "execution_count": 47,
   "id": "44011721",
   "metadata": {},
   "outputs": [
    {
     "data": {
      "text/plain": [
       "Series([], dtype: int64)"
      ]
     },
     "execution_count": 47,
     "metadata": {},
     "output_type": "execute_result"
    }
   ],
   "source": [
    "Full_Toss_Wkt = Powerplay_bow[(Powerplay_bow['BOWLING_LENGTH_ID'] == 'Full Toss') & (Powerplay_bow['IsBowlerWicket'] == 1)]\n",
    "Bow_wicket = Full_Toss_Wkt.groupby('BowlerName').size()\n",
    "Bow_wicket.sort_values(ascending = False).head(10)"
   ]
  },
  {
   "cell_type": "markdown",
   "id": "61032317",
   "metadata": {},
   "source": [
    "<font color='blue'> <H3> 9.Find the bolwer who has taken more than 2 wicket in single match during powerplay </H3> </font>"
   ]
  },
  {
   "cell_type": "code",
   "execution_count": 48,
   "id": "3585aaf8",
   "metadata": {},
   "outputs": [
    {
     "data": {
      "text/plain": [
       "MatchID  BowlerName    \n",
       "899      Mohammad Shami    4\n",
       "916      Deepak Chahar     3\n",
       "917      Mohammad Shami    3\n",
       "dtype: int64"
      ]
     },
     "execution_count": 48,
     "metadata": {},
     "output_type": "execute_result"
    }
   ],
   "source": [
    "match_bowl_wkt = Powerplay_bow[Powerplay_bow['IsBowlerWicket'] == 1].groupby(['MatchID', 'BowlerName']).size()\n",
    "match_Bowl_more_wkt = match_bowl_wkt[match_bowl_wkt >= 3]\n",
    "match_Bowl_more_wkt"
   ]
  },
  {
   "cell_type": "markdown",
   "id": "1a39cfb4",
   "metadata": {},
   "source": [
    "<font color='blue'> <H3> Total Run Give by bowler with 4(Four) during powerplay </H3> </font>"
   ]
  },
  {
   "cell_type": "code",
   "execution_count": 49,
   "id": "1b8e78aa",
   "metadata": {},
   "outputs": [
    {
     "data": {
      "text/plain": [
       "BowlerName\n",
       "Mohammad Shami       168\n",
       "Arshdeep Singh       140\n",
       "Mohammed Siraj       120\n",
       "Bhuvneshwar Kumar    116\n",
       "Trent Boult          112\n",
       "Deepak Chahar        112\n",
       "Tushar Deshpande     100\n",
       "Jason Behrendorff     96\n",
       "Hardik Pandya         92\n",
       "Avesh Khan            76\n",
       "Name: IsFour, dtype: int64"
      ]
     },
     "execution_count": 49,
     "metadata": {},
     "output_type": "execute_result"
    }
   ],
   "source": [
    "bow_four_run = Powerplay_bow.groupby('BowlerName')['IsFour'].sum() * 4\n",
    "bow_four_run.sort_values(ascending = False).head(10)"
   ]
  },
  {
   "cell_type": "markdown",
   "id": "46412e05",
   "metadata": {},
   "source": [
    "<font color='blue'> <H3> Total Run Give by bowler with 6(Six) during powerplay </H3> </font>"
   ]
  },
  {
   "cell_type": "code",
   "execution_count": 50,
   "id": "928da384",
   "metadata": {},
   "outputs": [
    {
     "data": {
      "text/plain": [
       "BowlerName\n",
       "Mohammad Shami       66\n",
       "Tushar Deshpande     54\n",
       "Umesh Yadav          48\n",
       "Akash Singh          42\n",
       "Deepak Chahar        42\n",
       "Jason Behrendorff    36\n",
       "Hardik Pandya        36\n",
       "Sandeep Sharma       30\n",
       "Arshdeep Singh       30\n",
       "Kagiso Rabada        30\n",
       "Name: IsSix, dtype: int64"
      ]
     },
     "execution_count": 50,
     "metadata": {},
     "output_type": "execute_result"
    }
   ],
   "source": [
    "bow_six_run = Powerplay_bow.groupby('BowlerName')['IsSix'].sum() * 6\n",
    "bow_six_run.sort_values(ascending = False).head(10)"
   ]
  },
  {
   "cell_type": "markdown",
   "id": "fc0882a1",
   "metadata": {},
   "source": [
    "<font color='blue'> <H3> Total Run Give by bowler with boundries {4(Four) or 6(six)} during powerplay </H3> </font>"
   ]
  },
  {
   "cell_type": "code",
   "execution_count": 51,
   "id": "30852d56",
   "metadata": {},
   "outputs": [
    {
     "data": {
      "text/plain": [
       "BowlerName\n",
       "Mohammad Shami       234\n",
       "Arshdeep Singh       170\n",
       "Deepak Chahar        154\n",
       "Tushar Deshpande     154\n",
       "Mohammed Siraj       144\n",
       "Bhuvneshwar Kumar    134\n",
       "Jason Behrendorff    132\n",
       "Hardik Pandya        128\n",
       "Trent Boult          124\n",
       "Akash Singh          114\n",
       "dtype: int64"
      ]
     },
     "execution_count": 51,
     "metadata": {},
     "output_type": "execute_result"
    }
   ],
   "source": [
    "bowl_boundry_run = bow_four_run+bow_six_run\n",
    "bowl_boundry_run.sort_values(ascending = False).head(10)"
   ]
  },
  {
   "cell_type": "markdown",
   "id": "1290eb2a",
   "metadata": {},
   "source": [
    "<font color='blue'> <H3> Percentage boundries run given by bowler during powerplay </H3> </font>"
   ]
  },
  {
   "cell_type": "code",
   "execution_count": 52,
   "id": "ac443597",
   "metadata": {},
   "outputs": [
    {
     "data": {
      "text/plain": [
       "BowlerName\n",
       "Yudhvir Singh     88.89\n",
       "Mohammed Siraj    88.34\n",
       "Mohsin Khan       88.14\n",
       "Arshad Khan       86.75\n",
       "Hardik Pandya     86.49\n",
       "Anrich Nortje     84.31\n",
       "Arshdeep Singh    83.33\n",
       "Avesh Khan        83.02\n",
       "Riley Meredith    82.93\n",
       "Josh Hazlewood    82.93\n",
       "dtype: float64"
      ]
     },
     "execution_count": 52,
     "metadata": {},
     "output_type": "execute_result"
    }
   ],
   "source": [
    "per_bow_bound_run = (bowl_boundry_run/PPB_run*100).round(2)\n",
    "per_bow_bound_run.sort_values(ascending = False).head(10)"
   ]
  },
  {
   "cell_type": "code",
   "execution_count": null,
   "id": "e1339c97",
   "metadata": {},
   "outputs": [],
   "source": []
  },
  {
   "cell_type": "code",
   "execution_count": null,
   "id": "b31dddcb",
   "metadata": {},
   "outputs": [],
   "source": []
  },
  {
   "cell_type": "code",
   "execution_count": null,
   "id": "2b7f0837",
   "metadata": {},
   "outputs": [],
   "source": []
  },
  {
   "cell_type": "code",
   "execution_count": null,
   "id": "9c7e61f8",
   "metadata": {},
   "outputs": [],
   "source": []
  },
  {
   "cell_type": "code",
   "execution_count": null,
   "id": "90d78b37",
   "metadata": {},
   "outputs": [],
   "source": []
  },
  {
   "cell_type": "code",
   "execution_count": 53,
   "id": "e69350c9",
   "metadata": {},
   "outputs": [
    {
     "data": {
      "text/plain": [
       "Index(['BallUniqueID', 'ActualBallNo', 'MatchID', 'InningsNo', 'BattingTeamID',\n",
       "       'TeamName', 'BatsManName', 'BowlerName', 'BowlerType', 'OverNo',\n",
       "       'BallNo', 'Runs', 'ActualRuns', 'IsOne', 'IsTwo', 'IsThree',\n",
       "       'IsDotball', 'Extras', 'IsWide', 'IsNoBall', 'IsBye', 'IsLegBye',\n",
       "       'IsFour', 'IsSix', 'IsWicket', 'WicketType', 'IsBowlerWicket',\n",
       "       'BallName', 'CommentStrikers', 'IsExtra', 'IsMaiden', 'BowlTypeName',\n",
       "       'ShotType', 'IsBouncer', 'BallCount', 'TotalRuns', 'BOWLING_LINE_ID',\n",
       "       'BOWLING_LENGTH_ID', 'IsFifty', 'IsHundred', 'IsHattrick'],\n",
       "      dtype='object')"
      ]
     },
     "execution_count": 53,
     "metadata": {},
     "output_type": "execute_result"
    }
   ],
   "source": [
    "Powerplay_Bat.columns"
   ]
  },
  {
   "cell_type": "code",
   "execution_count": null,
   "id": "59aecf3e",
   "metadata": {},
   "outputs": [],
   "source": []
  }
 ],
 "metadata": {
  "kernelspec": {
   "display_name": "Python 3 (ipykernel)",
   "language": "python",
   "name": "python3"
  },
  "language_info": {
   "codemirror_mode": {
    "name": "ipython",
    "version": 3
   },
   "file_extension": ".py",
   "mimetype": "text/x-python",
   "name": "python",
   "nbconvert_exporter": "python",
   "pygments_lexer": "ipython3",
   "version": "3.11.2"
  }
 },
 "nbformat": 4,
 "nbformat_minor": 5
}
